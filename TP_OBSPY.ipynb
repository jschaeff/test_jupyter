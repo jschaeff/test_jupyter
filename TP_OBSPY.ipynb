{
 "cells": [
  {
   "cell_type": "markdown",
   "metadata": {},
   "source": [
    "# TP OBSPY"
   ]
  },
  {
   "cell_type": "markdown",
   "metadata": {},
   "source": [
    "### To get started"
   ]
  },
  {
   "cell_type": "markdown",
   "metadata": {},
   "source": [
    "We first start be importing the necesssary packages:"
   ]
  },
  {
   "cell_type": "code",
   "execution_count": 17,
   "metadata": {},
   "outputs": [
    {
     "name": "stdout",
     "output_type": "stream",
     "text": [
      "Requirement already satisfied: obspy in /opt/conda/lib/python3.6/site-packages\n",
      "Collecting folium\n",
      "  Downloading https://files.pythonhosted.org/packages/88/89/8186c3441eb2a224d2896d9a8db6ded20ddd225f109e6144494a9893a0c1/folium-0.6.0-py3-none-any.whl (79kB)\n",
      "\u001b[K    100% |████████████████████████████████| 81kB 1.3MB/s ta 0:00:01\n",
      "\u001b[?25hRequirement already satisfied: scipy>=0.9.0 in /opt/conda/lib/python3.6/site-packages (from obspy)\n",
      "Requirement already satisfied: numpy>=1.6.1 in /opt/conda/lib/python3.6/site-packages (from obspy)\n",
      "Requirement already satisfied: setuptools in /opt/conda/lib/python3.6/site-packages (from obspy)\n",
      "Requirement already satisfied: decorator in /opt/conda/lib/python3.6/site-packages (from obspy)\n",
      "Requirement already satisfied: sqlalchemy in /opt/conda/lib/python3.6/site-packages (from obspy)\n",
      "Requirement already satisfied: lxml in /opt/conda/lib/python3.6/site-packages (from obspy)\n",
      "Requirement already satisfied: matplotlib>=1.1.0 in /opt/conda/lib/python3.6/site-packages (from obspy)\n",
      "Requirement already satisfied: requests in /opt/conda/lib/python3.6/site-packages (from obspy)\n",
      "Requirement already satisfied: future>=0.12.4 in /opt/conda/lib/python3.6/site-packages (from obspy)\n",
      "Collecting branca>=0.3.0 (from folium)\n",
      "  Downloading https://files.pythonhosted.org/packages/b5/18/13c018655f722896f25791f1db687db5671bd79285e05b3dd8c309b36414/branca-0.3.0-py3-none-any.whl\n",
      "Requirement already satisfied: six in /opt/conda/lib/python3.6/site-packages (from folium)\n",
      "Requirement already satisfied: jinja2 in /opt/conda/lib/python3.6/site-packages (from folium)\n",
      "Requirement already satisfied: cycler>=0.10 in /opt/conda/lib/python3.6/site-packages (from matplotlib>=1.1.0->obspy)\n",
      "Requirement already satisfied: python-dateutil>=2.1 in /opt/conda/lib/python3.6/site-packages (from matplotlib>=1.1.0->obspy)\n",
      "Requirement already satisfied: kiwisolver>=1.0.1 in /opt/conda/lib/python3.6/site-packages (from matplotlib>=1.1.0->obspy)\n",
      "Requirement already satisfied: pyparsing!=2.0.4,!=2.1.2,!=2.1.6,>=2.0.1 in /opt/conda/lib/python3.6/site-packages (from matplotlib>=1.1.0->obspy)\n",
      "Requirement already satisfied: chardet<3.1.0,>=3.0.2 in /opt/conda/lib/python3.6/site-packages (from requests->obspy)\n",
      "Requirement already satisfied: idna<2.8,>=2.5 in /opt/conda/lib/python3.6/site-packages (from requests->obspy)\n",
      "Requirement already satisfied: urllib3<1.24,>=1.21.1 in /opt/conda/lib/python3.6/site-packages (from requests->obspy)\n",
      "Requirement already satisfied: certifi>=2017.4.17 in /opt/conda/lib/python3.6/site-packages (from requests->obspy)\n",
      "Requirement already satisfied: MarkupSafe>=0.23 in /opt/conda/lib/python3.6/site-packages (from jinja2->folium)\n",
      "Installing collected packages: branca, folium\n",
      "Successfully installed branca-0.3.0 folium-0.6.0\n",
      "\u001b[33mYou are using pip version 9.0.3, however version 18.0 is available.\n",
      "You should consider upgrading via the 'pip install --upgrade pip' command.\u001b[0m\n"
     ]
    }
   ],
   "source": [
    "# Install a pip package in the current Jupyter kernel\n",
    "import sys\n",
    "!{sys.executable} -m pip install obspy folium"
   ]
  },
  {
   "cell_type": "code",
   "execution_count": 7,
   "metadata": {},
   "outputs": [],
   "source": [
    "try:\n",
    "    import obspy\n",
    "    from obspy.core import read\n",
    "    from obspy.clients.fdsn import Client\n",
    "    from obspy import UTCDateTime\n",
    "except ModuleNotFoundError:\n",
    "    print(\"\\nObspy package required!\\n\")\n",
    "    raise"
   ]
  },
  {
   "cell_type": "markdown",
   "metadata": {},
   "source": [
    "Absolute time values within ObsPy are handled with the **UTCDateTime** class. We define the *starttime* and the *endtime* of the signal:"
   ]
  },
  {
   "cell_type": "code",
   "execution_count": 8,
   "metadata": {},
   "outputs": [],
   "source": [
    "starttime = UTCDateTime(\"2016-11-13T11:30:00\")\n",
    "endtime = UTCDateTime(\"2016-11-13T13:45:00\")"
   ]
  },
  {
   "cell_type": "markdown",
   "metadata": {},
   "source": [
    "We select the webservice FDSN RESIF client :"
   ]
  },
  {
   "cell_type": "code",
   "execution_count": 9,
   "metadata": {},
   "outputs": [],
   "source": [
    "client_RESIF = Client(\"RESIF\")"
   ]
  },
  {
   "cell_type": "markdown",
   "metadata": {},
   "source": [
    "Here we will focus on the network __G__. To make an inventory of this network we use the **get_stations** function:"
   ]
  },
  {
   "cell_type": "code",
   "execution_count": 10,
   "metadata": {},
   "outputs": [],
   "source": [
    "inventory = client_RESIF.get_stations(\n",
    "    network=\"G\",\n",
    "    station=\"S*\", # only station begining by S\n",
    "    starttime=starttime,\n",
    "    endtime=endtime,\n",
    ")"
   ]
  },
  {
   "cell_type": "code",
   "execution_count": 11,
   "metadata": {},
   "outputs": [
    {
     "name": "stdout",
     "output_type": "stream",
     "text": [
      "Inventory created at 2018-09-28T10:51:26.000000Z\n",
      "\tCreated by: RESIF WEB SERVICE: http://ws.resif.fr/ws/station - version: 1.2\n",
      "\t\t    http://ws.resif.fr/fdsnws/station/1/query?starttime=2016-11-13T11%3...\n",
      "\tSending institution: RESIF (RESIF)\n",
      "\tContains:\n",
      "\t\tNetworks (1):\n",
      "\t\t\tG\n",
      "\t\tStations (3):\n",
      "\t\t\tG.SANVU (Espiritu Santo, Vanuatu)\n",
      "\t\t\tG.SPB (Sao Paulo, Brazil)\n",
      "\t\t\tG.SSB (Tunnel de Badole - Saint Sauveur en Rue, France)\n",
      "\t\tChannels (0):\n",
      "\n"
     ]
    }
   ],
   "source": [
    "print(inventory)"
   ]
  },
  {
   "cell_type": "markdown",
   "metadata": {},
   "source": [
    "### Select data and display some statistics"
   ]
  },
  {
   "cell_type": "markdown",
   "metadata": {},
   "source": [
    "We choose the station **SSB** (Tunnel de Badole - Saint Sauveur en Rue, France).\n",
    "We select the channel **BHZ** (high gain seismometer) and all the location (**\\***). This is perform with the help of the **get_waveforms** function:"
   ]
  },
  {
   "cell_type": "code",
   "execution_count": 12,
   "metadata": {},
   "outputs": [],
   "source": [
    "st = client_RESIF.get_waveforms(\n",
    "    network=\"G\",\n",
    "    station=\"SSB\",\n",
    "    location=\"*\",\n",
    "    channel=\"BHZ\",\n",
    "    starttime=starttime,\n",
    "    endtime=endtime,\n",
    ")"
   ]
  },
  {
   "cell_type": "markdown",
   "metadata": {},
   "source": [
    "We can display the general information about this stream. It contains three traces (data of a continuous series). It's a list, so the first trace is **st[0]**."
   ]
  },
  {
   "cell_type": "code",
   "execution_count": 13,
   "metadata": {},
   "outputs": [
    {
     "name": "stdout",
     "output_type": "stream",
     "text": [
      "3 Trace(s) in Stream:\n",
      "G.SSB.00.BHZ | 2016-11-13T11:28:59.800000Z - 2016-11-13T13:46:13.000000Z | 20.0 Hz, 164665 samples\n",
      "G.SSB.10.BHZ | 2016-11-13T11:29:42.000000Z - 2016-11-13T12:33:40.300000Z | 20.0 Hz, 76767 samples\n",
      "G.SSB.10.BHZ | 2016-11-13T12:39:13.350000Z - 2016-11-13T13:45:56.900000Z | 20.0 Hz, 80072 samples\n"
     ]
    }
   ],
   "source": [
    "print(st)\n",
    "first_trace = st[0] # or just st[0]..."
   ]
  },
  {
   "cell_type": "markdown",
   "metadata": {},
   "source": [
    "A Stats object may contain all header information of the trace:"
   ]
  },
  {
   "cell_type": "code",
   "execution_count": 14,
   "metadata": {},
   "outputs": [
    {
     "name": "stdout",
     "output_type": "stream",
     "text": [
      "               network: G\n",
      "               station: SSB\n",
      "              location: 00\n",
      "               channel: BHZ\n",
      "             starttime: 2016-11-13T11:28:59.800000Z\n",
      "               endtime: 2016-11-13T13:46:13.000000Z\n",
      "         sampling_rate: 20.0\n",
      "                 delta: 0.05\n",
      "                  npts: 164665\n",
      "                 calib: 1.0\n",
      "_fdsnws_dataselect_url: http://ws.resif.fr/fdsnws/dataselect/1/query\n",
      "               _format: MSEED\n",
      "                 mseed: AttribDict({'dataquality': 'Q', 'number_of_records': 79, 'encoding': 'STEIM2', 'byteorder': '>', 'record_length': 4096, 'filesize': 598016})\n"
     ]
    }
   ],
   "source": [
    "stats = st[0].stats\n",
    "print(stats)"
   ]
  },
  {
   "cell_type": "markdown",
   "metadata": {},
   "source": [
    "### Where is it ?"
   ]
  },
  {
   "cell_type": "markdown",
   "metadata": {},
   "source": [
    "We would like to display the station of interest on a map. To do this, we need to import additional modules."
   ]
  },
  {
   "cell_type": "code",
   "execution_count": 15,
   "metadata": {},
   "outputs": [
    {
     "name": "stdout",
     "output_type": "stream",
     "text": [
      "\n",
      "Folium package required!\n"
     ]
    },
    {
     "ename": "ModuleNotFoundError",
     "evalue": "No module named 'folium'",
     "output_type": "error",
     "traceback": [
      "\u001b[0;31m---------------------------------------------------------------------------\u001b[0m",
      "\u001b[0;31mModuleNotFoundError\u001b[0m                       Traceback (most recent call last)",
      "\u001b[0;32m<ipython-input-15-83db49f8a1ea>\u001b[0m in \u001b[0;36m<module>\u001b[0;34m()\u001b[0m\n\u001b[1;32m      3\u001b[0m \u001b[0;34m\u001b[0m\u001b[0m\n\u001b[1;32m      4\u001b[0m \u001b[0;32mtry\u001b[0m\u001b[0;34m:\u001b[0m\u001b[0;34m\u001b[0m\u001b[0m\n\u001b[0;32m----> 5\u001b[0;31m     \u001b[0;32mimport\u001b[0m \u001b[0mfolium\u001b[0m\u001b[0;34m\u001b[0m\u001b[0m\n\u001b[0m\u001b[1;32m      6\u001b[0m \u001b[0;32mexcept\u001b[0m \u001b[0mModuleNotFoundError\u001b[0m\u001b[0;34m:\u001b[0m\u001b[0;34m\u001b[0m\u001b[0m\n\u001b[1;32m      7\u001b[0m     \u001b[0mprint\u001b[0m\u001b[0;34m(\u001b[0m\u001b[0;34m\"\\nFolium package required!\"\u001b[0m\u001b[0;34m)\u001b[0m\u001b[0;34m\u001b[0m\u001b[0m\n",
      "\u001b[0;31mModuleNotFoundError\u001b[0m: No module named 'folium'"
     ]
    }
   ],
   "source": [
    "import csv\n",
    "import urllib.request\n",
    "\n",
    "try:\n",
    "    import folium\n",
    "except ModuleNotFoundError:\n",
    "    print(\"\\nFolium package required!\")\n",
    "    raise"
   ]
  },
  {
   "cell_type": "markdown",
   "metadata": {},
   "source": [
    "We download the station information file provided by the RESIF web service:"
   ]
  },
  {
   "cell_type": "code",
   "execution_count": null,
   "metadata": {},
   "outputs": [],
   "source": [
    "url = \"http://ws.resif.fr/fdsnws/station/1/query?network=G&station=SSB&location=00&channel=BHZ&level=channel&format=text\"\n",
    "urllib.request.urlretrieve(url, \"./station.txt\")"
   ]
  },
  {
   "cell_type": "markdown",
   "metadata": {},
   "source": [
    "Then we extract the latitude and the longitude of the station :"
   ]
  },
  {
   "cell_type": "code",
   "execution_count": null,
   "metadata": {},
   "outputs": [],
   "source": [
    "with open(\"station.txt\") as csvfile:\n",
    "    reader = list(csv.reader(csvfile, delimiter=\"|\"))\n",
    "    # for row in reader:\n",
    "    #    print(\", \".join(row))\n",
    "\n",
    "latitude = float(reader[1][4])\n",
    "longitude = float(reader[1][5])\n",
    "infos = \" \".join(reader[1][0:4]) # network, station, location, channel"
   ]
  },
  {
   "cell_type": "markdown",
   "metadata": {},
   "source": [
    "Then we add a marker on the map provided by the folium package (openstreetmap):"
   ]
  },
  {
   "cell_type": "code",
   "execution_count": null,
   "metadata": {},
   "outputs": [],
   "source": [
    "background = folium.Map(location=[latitude, longitude], zoom_start=13)\n",
    "folium.Marker([latitude, longitude], tooltip=infos).add_to(background)\n",
    "# background.save(outfile=\"station_map.html\")"
   ]
  },
  {
   "cell_type": "markdown",
   "metadata": {},
   "source": [
    "To display the map run the following cell:"
   ]
  },
  {
   "cell_type": "code",
   "execution_count": null,
   "metadata": {},
   "outputs": [],
   "source": [
    "background"
   ]
  },
  {
   "cell_type": "markdown",
   "metadata": {},
   "source": [
    "### Trace processing"
   ]
  },
  {
   "cell_type": "markdown",
   "metadata": {},
   "source": [
    "Remove the mean:"
   ]
  },
  {
   "cell_type": "code",
   "execution_count": null,
   "metadata": {},
   "outputs": [],
   "source": [
    "st[0].detrend(\"demean\") # Keep in mind that this operation is made \"in place\". So st[0] is now modified."
   ]
  },
  {
   "cell_type": "markdown",
   "metadata": {},
   "source": [
    "Remove the trend:"
   ]
  },
  {
   "cell_type": "code",
   "execution_count": null,
   "metadata": {},
   "outputs": [],
   "source": [
    "st[0].detrend(\"linear\") # Remove the trend remove also the mean..."
   ]
  },
  {
   "cell_type": "markdown",
   "metadata": {},
   "source": [
    "Apply a band-pass filter:"
   ]
  },
  {
   "cell_type": "code",
   "execution_count": null,
   "metadata": {},
   "outputs": [],
   "source": [
    "st[0].filter(\n",
    "    \"bandpass\",\n",
    "    freqmin=0.001,\n",
    "    freqmax=0.01,\n",
    ")"
   ]
  },
  {
   "cell_type": "markdown",
   "metadata": {},
   "source": [
    "Decimate (downsample) trace data by an integer factor:"
   ]
  },
  {
   "cell_type": "code",
   "execution_count": null,
   "metadata": {},
   "outputs": [],
   "source": [
    "st[0].decimate(2)"
   ]
  },
  {
   "cell_type": "markdown",
   "metadata": {},
   "source": [
    "Remove the instrumental response by deconvolution (This will return an error message.):"
   ]
  },
  {
   "cell_type": "code",
   "execution_count": null,
   "metadata": {},
   "outputs": [],
   "source": [
    "try:\n",
    "    st[0].remove_response()\n",
    "except ValueError as ve:\n",
    "    print(str(ve))"
   ]
  },
  {
   "cell_type": "markdown",
   "metadata": {},
   "source": [
    "To perform this operation we need to import both the response function and the waveform (attach_response=True):"
   ]
  },
  {
   "cell_type": "code",
   "execution_count": null,
   "metadata": {},
   "outputs": [],
   "source": [
    "# To perform the deconvolution we need to import both the response function and the waveform.\n",
    "st = client_RESIF.get_waveforms(\n",
    "    network=\"G\",\n",
    "    station=\"SSB\",\n",
    "    location=\"00\",\n",
    "    channel=\"BHZ\",\n",
    "    starttime=starttime,\n",
    "    endtime=endtime,\n",
    "    attach_response=True, # We attach the instrumental response.\n",
    ")"
   ]
  },
  {
   "cell_type": "markdown",
   "metadata": {},
   "source": [
    "We make a deep copy of the original trace and perform again some standard operation:"
   ]
  },
  {
   "cell_type": "code",
   "execution_count": null,
   "metadata": {},
   "outputs": [],
   "source": [
    "raw_trace = st[0].copy() # Try without copy() function instead: raw_trace = st[0]\n",
    "st[0].detrend(\"linear\")\n",
    "st[0].filter(\"bandpass\", freqmin=0.001, freqmax=0.01)\n",
    "st[0].decimate(2)\n",
    "st[0].remove_response()"
   ]
  },
  {
   "cell_type": "markdown",
   "metadata": {},
   "source": [
    "Visualisation of the original and process signals:"
   ]
  },
  {
   "cell_type": "code",
   "execution_count": null,
   "metadata": {},
   "outputs": [],
   "source": [
    "raw_trace.plot()\n",
    "st[0].plot()"
   ]
  },
  {
   "cell_type": "code",
   "execution_count": null,
   "metadata": {},
   "outputs": [],
   "source": []
  }
 ],
 "metadata": {
  "kernelspec": {
   "display_name": "Python 3",
   "language": "python",
   "name": "python3"
  },
  "language_info": {
   "codemirror_mode": {
    "name": "ipython",
    "version": 3
   },
   "file_extension": ".py",
   "mimetype": "text/x-python",
   "name": "python",
   "nbconvert_exporter": "python",
   "pygments_lexer": "ipython3",
   "version": "3.6.6"
  }
 },
 "nbformat": 4,
 "nbformat_minor": 2
}
